{
 "cells": [
  {
   "cell_type": "code",
   "execution_count": 19,
   "metadata": {},
   "outputs": [],
   "source": [
    "import numpy as np\n",
    "import pandas as pd\n",
    "import gensim\n",
    "from gensim.models import Word2Vec\n",
    "import re\n",
    "import nltk\n",
    "from nltk.tokenize import word_tokenize\n",
    "from nltk.corpus import stopwords\n",
    "import random\n",
    "import string\n",
    "from sklearn.utils import shuffle\n",
    "import multiprocessing\n",
    "from sklearn.model_selection import train_test_split\n",
    "from sklearn import svm\n",
    "from sklearn import metrics"
   ]
  },
  {
   "cell_type": "code",
   "execution_count": 2,
   "metadata": {},
   "outputs": [],
   "source": [
    "df = pd.read_csv('uci-news-aggregator.csv')\n",
    "df = df[['TITLE','CATEGORY']]\n",
    "#categories: b = business, t = science and technology, e = entertainment, m = health"
   ]
  },
  {
   "cell_type": "code",
   "execution_count": 3,
   "metadata": {},
   "outputs": [
    {
     "data": {
      "text/html": [
       "<div>\n",
       "<style scoped>\n",
       "    .dataframe tbody tr th:only-of-type {\n",
       "        vertical-align: middle;\n",
       "    }\n",
       "\n",
       "    .dataframe tbody tr th {\n",
       "        vertical-align: top;\n",
       "    }\n",
       "\n",
       "    .dataframe thead th {\n",
       "        text-align: right;\n",
       "    }\n",
       "</style>\n",
       "<table border=\"1\" class=\"dataframe\">\n",
       "  <thead>\n",
       "    <tr style=\"text-align: right;\">\n",
       "      <th></th>\n",
       "      <th>TITLE</th>\n",
       "      <th>CATEGORY</th>\n",
       "    </tr>\n",
       "  </thead>\n",
       "  <tbody>\n",
       "    <tr>\n",
       "      <th>0</th>\n",
       "      <td>Robin Thicke cries himself a river on 'Paula' ...</td>\n",
       "      <td>e</td>\n",
       "    </tr>\n",
       "    <tr>\n",
       "      <th>1</th>\n",
       "      <td>Mila Kunis and Ashton Kutcher are planning to ...</td>\n",
       "      <td>e</td>\n",
       "    </tr>\n",
       "    <tr>\n",
       "      <th>2</th>\n",
       "      <td>iPhone 6 May Have Been Leaked By China Telecom</td>\n",
       "      <td>t</td>\n",
       "    </tr>\n",
       "    <tr>\n",
       "      <th>3</th>\n",
       "      <td>Former Islanders owner admits to role in $554 ...</td>\n",
       "      <td>b</td>\n",
       "    </tr>\n",
       "    <tr>\n",
       "      <th>4</th>\n",
       "      <td>Big Hair News: Kaley Cuoco's Chop, Kesha's Old...</td>\n",
       "      <td>e</td>\n",
       "    </tr>\n",
       "  </tbody>\n",
       "</table>\n",
       "</div>"
      ],
      "text/plain": [
       "                                               TITLE CATEGORY\n",
       "0  Robin Thicke cries himself a river on 'Paula' ...        e\n",
       "1  Mila Kunis and Ashton Kutcher are planning to ...        e\n",
       "2     iPhone 6 May Have Been Leaked By China Telecom        t\n",
       "3  Former Islanders owner admits to role in $554 ...        b\n",
       "4  Big Hair News: Kaley Cuoco's Chop, Kesha's Old...        e"
      ]
     },
     "execution_count": 3,
     "metadata": {},
     "output_type": "execute_result"
    }
   ],
   "source": [
    "# shuffle - embaralha as linhas para evitar problema (aprende apenas amostras de uma categoria e isso pode levar o gradiente a\n",
    "# ficar preso num mínimo local e só aprender bem sobre)\n",
    "df = shuffle(df)\n",
    "df = df.reset_index(drop = True)\n",
    "df.head()"
   ]
  },
  {
   "cell_type": "code",
   "execution_count": 4,
   "metadata": {},
   "outputs": [],
   "source": [
    "import nltk\n",
    "import re\n",
    "import string\n",
    "import unicodedata\n",
    "\n",
    "from nltk.tokenize import word_tokenize\n",
    "from nltk.corpus import stopwords\n",
    "    \n",
    "        \n",
    "def normalize_accents(text):\n",
    "    return unicodedata.normalize(\"NFKD\", text).encode(\"ASCII\", \"ignore\").decode(\"utf-8\")\n",
    "\n",
    "def normalize_str(text):\n",
    "    text = text.lower()\n",
    "    text = remove_punctuation(text)\n",
    "    text = normalize_accents(text)\n",
    "    text = re.sub(re.compile(r\" +\"), \" \",text)\n",
    "    return \" \".join([w for w in text.split()])\n",
    "\n",
    "def remove_punctuation(text):\n",
    "    punctuations = string.punctuation\n",
    "    table = str.maketrans({key: \" \" for key in punctuations})\n",
    "    text = text.translate(table)\n",
    "    return text\n",
    "\n",
    "\n",
    "def tokenizer(text):\n",
    "    stop_words = nltk.corpus.stopwords.words(\"english\") # portuguese, caso o dataset seja em português\n",
    "    if isinstance(text, str):\n",
    "        text = normalize_str(text)\n",
    "        text = \"\".join([w for w in text if not w.isdigit()])\n",
    "        text = word_tokenize(text)\n",
    "        text = [x for x in text if x not in stop_words]\n",
    "        text = [y for y in text if len(y) > 2]\n",
    "        return [t for t in text]\n",
    "    else:\n",
    "        return None\n"
   ]
  },
  {
   "cell_type": "code",
   "execution_count": 5,
   "metadata": {},
   "outputs": [],
   "source": [
    "df['Title_Treated'] = df['TITLE'].apply(tokenizer)"
   ]
  },
  {
   "cell_type": "code",
   "execution_count": 6,
   "metadata": {},
   "outputs": [
    {
     "data": {
      "text/html": [
       "<div>\n",
       "<style scoped>\n",
       "    .dataframe tbody tr th:only-of-type {\n",
       "        vertical-align: middle;\n",
       "    }\n",
       "\n",
       "    .dataframe tbody tr th {\n",
       "        vertical-align: top;\n",
       "    }\n",
       "\n",
       "    .dataframe thead th {\n",
       "        text-align: right;\n",
       "    }\n",
       "</style>\n",
       "<table border=\"1\" class=\"dataframe\">\n",
       "  <thead>\n",
       "    <tr style=\"text-align: right;\">\n",
       "      <th></th>\n",
       "      <th>TITLE</th>\n",
       "      <th>CATEGORY</th>\n",
       "      <th>Title_Treated</th>\n",
       "    </tr>\n",
       "  </thead>\n",
       "  <tbody>\n",
       "    <tr>\n",
       "      <th>0</th>\n",
       "      <td>Robin Thicke cries himself a river on 'Paula' ...</td>\n",
       "      <td>e</td>\n",
       "      <td>[robin, thicke, cries, river, paula, album, re...</td>\n",
       "    </tr>\n",
       "    <tr>\n",
       "      <th>1</th>\n",
       "      <td>Mila Kunis and Ashton Kutcher are planning to ...</td>\n",
       "      <td>e</td>\n",
       "      <td>[mila, kunis, ashton, kutcher, planning, get, ...</td>\n",
       "    </tr>\n",
       "    <tr>\n",
       "      <th>2</th>\n",
       "      <td>iPhone 6 May Have Been Leaked By China Telecom</td>\n",
       "      <td>t</td>\n",
       "      <td>[iphone, may, leaked, china, telecom]</td>\n",
       "    </tr>\n",
       "    <tr>\n",
       "      <th>3</th>\n",
       "      <td>Former Islanders owner admits to role in $554 ...</td>\n",
       "      <td>b</td>\n",
       "      <td>[former, islanders, owner, admits, role, milli...</td>\n",
       "    </tr>\n",
       "    <tr>\n",
       "      <th>4</th>\n",
       "      <td>Big Hair News: Kaley Cuoco's Chop, Kesha's Old...</td>\n",
       "      <td>e</td>\n",
       "      <td>[big, hair, news, kaley, cuoco, chop, kesha, o...</td>\n",
       "    </tr>\n",
       "  </tbody>\n",
       "</table>\n",
       "</div>"
      ],
      "text/plain": [
       "                                               TITLE CATEGORY  \\\n",
       "0  Robin Thicke cries himself a river on 'Paula' ...        e   \n",
       "1  Mila Kunis and Ashton Kutcher are planning to ...        e   \n",
       "2     iPhone 6 May Have Been Leaked By China Telecom        t   \n",
       "3  Former Islanders owner admits to role in $554 ...        b   \n",
       "4  Big Hair News: Kaley Cuoco's Chop, Kesha's Old...        e   \n",
       "\n",
       "                                       Title_Treated  \n",
       "0  [robin, thicke, cries, river, paula, album, re...  \n",
       "1  [mila, kunis, ashton, kutcher, planning, get, ...  \n",
       "2              [iphone, may, leaked, china, telecom]  \n",
       "3  [former, islanders, owner, admits, role, milli...  \n",
       "4  [big, hair, news, kaley, cuoco, chop, kesha, o...  "
      ]
     },
     "execution_count": 6,
     "metadata": {},
     "output_type": "execute_result"
    }
   ],
   "source": [
    "df.head()"
   ]
  },
  {
   "cell_type": "code",
   "execution_count": 7,
   "metadata": {},
   "outputs": [],
   "source": [
    "labels = np.array(df['CATEGORY']) # label para cada uma das frases"
   ]
  },
  {
   "cell_type": "code",
   "execution_count": 8,
   "metadata": {},
   "outputs": [],
   "source": [
    "# parâmetros do word2vec\n",
    "dim_vec = 300\n",
    "min_count = 10\n",
    "window = 4\n",
    "num_workers = multiprocessing.cpu_count()\n",
    "seed = np.random.seed(42)"
   ]
  },
  {
   "cell_type": "code",
   "execution_count": 9,
   "metadata": {},
   "outputs": [],
   "source": [
    "# instância do Word2Vec\n",
    "modelo = Word2Vec(df[\"Title_Treated\"],\n",
    "                    min_count = min_count, \n",
    "                    vector_size = dim_vec, \n",
    "                    window = window,\n",
    "                    seed = seed,\n",
    "                    workers = num_workers,\n",
    "                    sg = 1) #sg = 0 -> CBOW e sg = 1 -> skipgram"
   ]
  },
  {
   "cell_type": "code",
   "execution_count": 10,
   "metadata": {},
   "outputs": [
    {
     "name": "stdout",
     "output_type": "stream",
     "text": [
      "Tamanho do vocabulário do Word2Vec:  16241\n"
     ]
    }
   ],
   "source": [
    "print(\"Tamanho do vocabulário do Word2Vec: \", len(modelo.wv))"
   ]
  },
  {
   "cell_type": "code",
   "execution_count": 11,
   "metadata": {},
   "outputs": [
    {
     "name": "stdout",
     "output_type": "stream",
     "text": [
      "[('galaxy', 0.6603061556816101), ('tizen', 0.6135312914848328), ('waterproof', 0.6055197715759277), ('tab', 0.5974157452583313), ('exynos', 0.5933058261871338), ('fingerprint', 0.5907710790634155), ('optical', 0.5883619785308838), ('cameraphone', 0.5811545252799988), ('neo', 0.5780284404754639), ('specification', 0.5770387053489685)] \n",
      "\n",
      "0.31254223 \n",
      "\n",
      "[('film', 0.41209676861763), ('flick', 0.38928914070129395), ('biopic', 0.37935981154441833)]\n"
     ]
    }
   ],
   "source": [
    "# exemplos das relações semânticas que o word2vec consegue estabelecer\n",
    "print(modelo.wv.most_similar('samsung'), '\\n') # palavra mais similar a 'itau'\n",
    "print(modelo.wv.similarity('google', 'microsoft'), '\\n') # similaridade entre duas palavras\n",
    "print(modelo.wv.most_similar(positive = ['show', 'movie'], negative = ['home'], topn = 3)) # similaridade considerando exemplos positivos e negativos"
   ]
  },
  {
   "cell_type": "code",
   "execution_count": 12,
   "metadata": {},
   "outputs": [],
   "source": [
    "def meanVector(model,phrase):\n",
    "    vocab = list(model.wv.index_to_key)\n",
    "    phrase = \" \".join(phrase)\n",
    "    phrase = [x for x in word_tokenize(phrase) if x in vocab]\n",
    "    #Quando não houver palavra o vector recebe 0 para todas as posições\n",
    "    if phrase == []:\n",
    "        vetor = [0.0]*dim_vec \n",
    "    else: \n",
    "        #Caso contrário, calculando a matriz da frase\n",
    "        vetor = np.mean([model.wv[word] for word in phrase],axis=0)\n",
    "    return vetor"
   ]
  },
  {
   "cell_type": "code",
   "execution_count": 13,
   "metadata": {},
   "outputs": [],
   "source": [
    "def createFeatures(base): \n",
    "    features = [meanVector(modelo,base['Title_Treated'][i])for i in range(len(base))]\n",
    "    return features"
   ]
  },
  {
   "cell_type": "code",
   "execution_count": 14,
   "metadata": {},
   "outputs": [
    {
     "data": {
      "text/plain": [
       "array([ 7.76788220e-02, -1.56580824e-02, -1.99973091e-01, -3.48755687e-01,\n",
       "       -3.97247002e-02,  2.27950007e-01, -1.41073996e-02, -1.96009278e-01,\n",
       "        5.00374734e-02,  1.41638145e-01,  2.69054826e-02, -1.54619977e-01,\n",
       "       -1.34386718e-01,  2.91046143e-01, -3.90845627e-01,  1.93845406e-01,\n",
       "        4.82922971e-01, -1.82963740e-02,  1.41421959e-01,  4.47828799e-01,\n",
       "        3.59108269e-01, -1.69355363e-01, -6.92565218e-02,  2.12228566e-01,\n",
       "        9.07041654e-02,  2.34435126e-01,  1.68567017e-01, -4.35160324e-02,\n",
       "        5.07158302e-02, -2.21138984e-01, -1.61573812e-01, -1.99439317e-01,\n",
       "        7.11930469e-02,  6.99207634e-02,  2.33431920e-01,  1.33546561e-01,\n",
       "       -3.41324247e-02, -1.06512599e-01, -1.08512983e-01, -2.08253905e-01,\n",
       "        7.54968747e-02,  1.88351169e-01, -9.04641375e-02,  2.56415606e-01,\n",
       "        2.01211050e-01,  1.40200958e-01,  2.20510699e-02, -1.12380870e-01,\n",
       "       -1.53903246e-01,  2.26212487e-01,  4.24410887e-02, -9.68811512e-02,\n",
       "       -5.77640116e-01,  1.10848464e-01,  2.50840038e-01,  8.07284117e-02,\n",
       "       -1.41994432e-01, -3.41930330e-01,  2.40784332e-01, -1.49749732e-02,\n",
       "        1.10635243e-01,  2.20896989e-01,  5.63854799e-02, -3.62391099e-02,\n",
       "       -1.17813878e-01, -1.82490826e-01,  1.10701639e-02,  1.00628838e-01,\n",
       "       -6.94925711e-02, -1.48472533e-01,  3.09445053e-01,  1.70255318e-01,\n",
       "        7.36034289e-02,  8.26369748e-02, -2.53862944e-02,  1.42225802e-01,\n",
       "        5.46900272e-01,  1.67670771e-01, -1.74749166e-01,  9.96561572e-02,\n",
       "        1.07494250e-01,  1.87646151e-01, -4.59704101e-02, -3.55336398e-01,\n",
       "       -1.26341730e-03, -2.11677104e-01, -2.84703404e-01, -2.46125311e-01,\n",
       "       -2.33774185e-01,  1.49827331e-01,  3.81445825e-01,  2.18632206e-01,\n",
       "       -4.21200335e-01,  8.06627944e-02,  9.99431126e-03, -2.50479937e-01,\n",
       "        2.19037145e-01, -6.17985763e-02,  1.66747957e-01, -1.03013427e-03,\n",
       "        1.66140303e-01,  3.70429277e-01, -2.15618491e-01,  4.80192393e-01,\n",
       "       -1.79023430e-01,  5.75468957e-01,  7.70344073e-03,  2.63105959e-01,\n",
       "       -7.10066315e-03,  4.40614577e-03,  1.10979520e-01, -3.23809296e-01,\n",
       "        2.29556799e-01, -2.08509609e-01, -2.19211444e-01, -4.74997945e-02,\n",
       "        2.61133283e-01, -1.94868013e-01,  9.77487639e-02,  1.93529930e-02,\n",
       "        6.04389086e-02,  2.49020442e-01,  2.20122814e-01, -1.58893138e-01,\n",
       "        2.44207576e-01,  2.28038505e-01, -5.59193678e-02, -1.04819834e-01,\n",
       "       -3.68809909e-01, -3.79310876e-01,  1.53713837e-01, -9.79659557e-02,\n",
       "       -2.71301959e-02,  4.56059165e-02,  3.90232764e-02,  3.29672582e-02,\n",
       "        3.03846210e-01,  6.42952556e-03, -1.45167723e-01,  1.23846777e-01,\n",
       "        3.79097700e-01, -1.17025673e-01,  2.86329359e-01, -2.63528854e-01,\n",
       "        2.71038320e-02,  2.70493507e-01,  3.73795092e-01, -3.40558589e-01,\n",
       "       -4.07107826e-03, -9.51098651e-02, -1.55702040e-01, -3.85352783e-02,\n",
       "        5.50326183e-02,  1.31968945e-01,  1.26125947e-01, -2.71712840e-01,\n",
       "        3.55428368e-01, -1.62324637e-01,  8.70829355e-03, -2.24670604e-01,\n",
       "       -1.28058732e-01,  1.83622122e-01, -2.93673128e-01, -4.68009375e-02,\n",
       "       -2.95279533e-01,  1.33063704e-01, -2.86564916e-01, -1.72895074e-01,\n",
       "        3.47603649e-01, -1.37552097e-01,  1.62713796e-01, -5.18835485e-02,\n",
       "        1.24260612e-01,  4.85178903e-02,  3.95103186e-01,  1.74802635e-02,\n",
       "       -1.25148356e-01,  1.59947380e-01, -1.38314530e-01, -2.21717104e-01,\n",
       "       -8.92592221e-02,  1.71324223e-01, -5.32833524e-02, -3.29989381e-02,\n",
       "        7.62817860e-02, -4.04919952e-01,  1.16319142e-01,  2.35228270e-01,\n",
       "        1.81441769e-01, -5.45209870e-02,  1.43910766e-01, -3.15794535e-02,\n",
       "        3.89868349e-01, -1.87210530e-01,  2.90108860e-01,  3.53672355e-01,\n",
       "       -1.81076556e-01,  2.41631046e-01, -1.95901200e-01, -9.13264521e-04,\n",
       "        1.93847604e-02, -4.07446325e-02, -1.07882611e-01,  2.71683306e-01,\n",
       "        3.08550727e-02, -1.43352270e-01,  1.35780767e-01,  1.87527403e-01,\n",
       "        6.41890913e-02,  1.85387760e-01, -1.98083386e-01, -2.85364479e-01,\n",
       "       -3.25569659e-01,  7.38860816e-02,  1.50447702e-02, -4.13032323e-01,\n",
       "       -8.37989524e-02,  1.17940016e-01,  4.04853791e-01,  9.16382745e-02,\n",
       "        1.15556903e-01,  4.45065200e-01, -6.69730455e-02, -4.42249775e-02,\n",
       "        2.27607787e-04, -3.10157299e-01,  6.27379566e-02, -2.01585919e-01,\n",
       "        2.90402323e-01,  1.03304185e-01, -1.58921465e-01,  2.06290409e-01,\n",
       "        4.48067248e-01, -1.40042618e-01,  1.96330979e-01, -4.34537888e-01,\n",
       "       -2.58820206e-01,  1.66787907e-01, -2.03864977e-01, -1.13934226e-01,\n",
       "       -1.20220646e-01, -4.28700708e-02, -5.07150553e-02, -2.17437401e-01,\n",
       "        2.02433854e-01,  4.30821210e-01,  3.97929549e-02,  1.98529139e-01,\n",
       "        5.54022491e-02, -2.72638779e-02,  1.42953426e-01, -1.27188578e-01,\n",
       "        8.11465234e-02, -2.04010531e-01, -5.11490941e-01, -5.26531339e-01,\n",
       "       -6.92423731e-02, -2.41167918e-01,  3.26539785e-01,  1.07044645e-01,\n",
       "        6.50416464e-02,  1.89072400e-01, -2.55003542e-01,  3.17453290e-03,\n",
       "       -2.61981130e-01,  2.16481686e-02, -2.12658659e-01, -5.75493813e-01,\n",
       "        1.62695929e-01, -1.51352137e-02,  1.67685077e-01, -6.89423159e-02,\n",
       "        1.33619860e-01, -1.74317405e-01, -7.96813592e-02,  9.55448225e-02,\n",
       "       -6.72081858e-02, -1.19671769e-01, -2.23249421e-01,  1.55898497e-01,\n",
       "        1.84191227e-01, -1.17271252e-01, -1.48466080e-01,  8.23116973e-02,\n",
       "        6.80513829e-02, -4.31023911e-02, -8.56345445e-02, -3.99414301e-01,\n",
       "        3.88410300e-01,  3.64866406e-01, -3.22034582e-02,  1.16118588e-01,\n",
       "       -1.87618211e-01,  1.66540027e-01, -2.68648624e-01,  1.80862024e-01,\n",
       "        1.14391260e-01,  1.26508027e-01,  1.98742524e-01,  1.74765661e-01],\n",
       "      dtype=float32)"
      ]
     },
     "execution_count": 14,
     "metadata": {},
     "output_type": "execute_result"
    }
   ],
   "source": [
    "df = createFeatures(df)\n",
    "df[0]"
   ]
  },
  {
   "cell_type": "code",
   "execution_count": 17,
   "metadata": {},
   "outputs": [],
   "source": [
    "X_train, X_test, y_train, y_test = train_test_split(df[0:100000], labels[0:100000], test_size=0.3,random_state=42)\n",
    "clf = svm.SVC(kernel='rbf') \n",
    "clf.fit(X_train, y_train)\n",
    "y_pred = clf.predict(X_test)"
   ]
  },
  {
   "cell_type": "code",
   "execution_count": 18,
   "metadata": {},
   "outputs": [
    {
     "name": "stdout",
     "output_type": "stream",
     "text": [
      "Accuracy: 0.9247666666666666\n"
     ]
    }
   ],
   "source": [
    "print(\"Accuracy:\",metrics.accuracy_score(y_test, y_pred))"
   ]
  },
  {
   "cell_type": "code",
   "execution_count": null,
   "metadata": {},
   "outputs": [],
   "source": []
  }
 ],
 "metadata": {
  "kernelspec": {
   "display_name": "Python 3 (ipykernel)",
   "language": "python",
   "name": "python3"
  },
  "language_info": {
   "codemirror_mode": {
    "name": "ipython",
    "version": 3
   },
   "file_extension": ".py",
   "mimetype": "text/x-python",
   "name": "python",
   "nbconvert_exporter": "python",
   "pygments_lexer": "ipython3",
   "version": "3.9.12"
  }
 },
 "nbformat": 4,
 "nbformat_minor": 4
}
